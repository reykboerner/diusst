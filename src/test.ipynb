{
 "cells": [
  {
   "cell_type": "code",
   "execution_count": 1,
   "id": "091e9f2c",
   "metadata": {
    "ExecuteTime": {
     "end_time": "2022-04-20T06:00:51.690247Z",
     "start_time": "2022-04-20T06:00:51.164383Z"
    }
   },
   "outputs": [],
   "source": [
    "import numpy as np\n",
    "from diusst import Diusst"
   ]
  },
  {
   "cell_type": "code",
   "execution_count": 11,
   "id": "c8b15ba7",
   "metadata": {
    "ExecuteTime": {
     "end_time": "2022-04-20T06:15:48.850820Z",
     "start_time": "2022-04-20T06:15:48.843178Z"
    }
   },
   "outputs": [],
   "source": [
    "model = Diusst(mu=0.002576,ngrid=40,z_f=10,dz0=0.1)"
   ]
  },
  {
   "cell_type": "code",
   "execution_count": 12,
   "id": "265b7540",
   "metadata": {
    "ExecuteTime": {
     "end_time": "2022-04-20T06:15:51.506921Z",
     "start_time": "2022-04-20T06:15:51.491186Z"
    }
   },
   "outputs": [
    {
     "data": {
      "text/plain": [
       "array([0.00000000e+00, 2.57600000e-05, 2.71170939e-05, 2.85608810e-05,\n",
       "       3.00985882e-05, 3.17382432e-05, 3.34887882e-05, 3.53602149e-05,\n",
       "       3.73637227e-05, 3.95119076e-05, 4.18189871e-05, 4.43010701e-05,\n",
       "       4.69764829e-05, 4.98661650e-05, 5.29941528e-05, 5.63881746e-05,\n",
       "       6.00803892e-05, 6.41083083e-05, 6.85159599e-05, 7.33553695e-05,\n",
       "       7.86884631e-05, 8.45895431e-05, 9.11485440e-05, 9.84753750e-05,\n",
       "       1.06705794e-04, 1.16009487e-04, 1.26601372e-04, 1.38757761e-04,\n",
       "       1.52839963e-04, 1.69329711e-04, 1.88883886e-04, 2.12422103e-04,\n",
       "       2.41272667e-04, 2.77428003e-04, 3.24019035e-04, 3.86263924e-04,\n",
       "       4.73555314e-04, 6.04678429e-04, 8.23465372e-04, 1.26141233e-03,\n",
       "       2.57600000e-03, 0.00000000e+00])"
      ]
     },
     "execution_count": 12,
     "metadata": {},
     "output_type": "execute_result"
    }
   ],
   "source": [
    "model.mix"
   ]
  },
  {
   "cell_type": "code",
   "execution_count": 5,
   "id": "0b8e63a3",
   "metadata": {
    "ExecuteTime": {
     "end_time": "2022-04-20T06:04:15.617742Z",
     "start_time": "2022-04-20T06:04:15.606703Z"
    }
   },
   "outputs": [],
   "source": [
    "z,stretch = model.get_mesh()"
   ]
  },
  {
   "cell_type": "code",
   "execution_count": 9,
   "id": "cbe853cf",
   "metadata": {
    "ExecuteTime": {
     "end_time": "2022-04-20T06:04:45.322539Z",
     "start_time": "2022-04-20T06:04:45.308536Z"
    }
   },
   "outputs": [
    {
     "data": {
      "text/plain": [
       "array([ 0.        , -0.1       , -0.20421554, -0.31282433, -0.42601156,\n",
       "       -0.54397024, -0.66690152, -0.79501502, -0.92852919, -1.06767171,\n",
       "       -1.21267983, -1.36380083, -1.52129239, -1.68542307, -1.85647274,\n",
       "       -2.03473308, -2.22050806, -2.41411445, -2.6158824 , -2.82615595,\n",
       "       -3.04529367, -3.27366922, -3.51167204, -3.75970796, -4.01819993,\n",
       "       -4.28758874, -4.56833373, -4.86091364, -5.16582737, -5.48359486,\n",
       "       -5.81475796, -6.15988138, -6.51955361, -6.89438796, -7.2850236 ,\n",
       "       -7.69212665, -8.11639128, -8.55854095, -9.01932962, -9.49954302])"
      ]
     },
     "execution_count": 9,
     "metadata": {},
     "output_type": "execute_result"
    }
   ],
   "source": [
    "z[1:-1]"
   ]
  },
  {
   "cell_type": "code",
   "execution_count": 10,
   "id": "f16dc32c",
   "metadata": {
    "ExecuteTime": {
     "end_time": "2022-04-20T06:04:56.191122Z",
     "start_time": "2022-04-20T06:04:56.168829Z"
    }
   },
   "outputs": [
    {
     "data": {
      "text/plain": [
       "array([ -0.1       ,  -0.20421554,  -0.31282433,  -0.42601156,\n",
       "        -0.54397024,  -0.66690152,  -0.79501502,  -0.92852919,\n",
       "        -1.06767171,  -1.21267983,  -1.36380083,  -1.52129239,\n",
       "        -1.68542307,  -1.85647274,  -2.03473308,  -2.22050806,\n",
       "        -2.41411445,  -2.6158824 ,  -2.82615595,  -3.04529367,\n",
       "        -3.27366922,  -3.51167204,  -3.75970796,  -4.01819993,\n",
       "        -4.28758874,  -4.56833373,  -4.86091364,  -5.16582737,\n",
       "        -5.48359486,  -5.81475796,  -6.15988138,  -6.51955361,\n",
       "        -6.89438796,  -7.2850236 ,  -7.69212665,  -8.11639128,\n",
       "        -8.55854095,  -9.01932962,  -9.49954302, -10.        ])"
      ]
     },
     "execution_count": 10,
     "metadata": {},
     "output_type": "execute_result"
    }
   ],
   "source": [
    "z[2:]"
   ]
  },
  {
   "cell_type": "code",
   "execution_count": null,
   "id": "58fbb6f1",
   "metadata": {},
   "outputs": [],
   "source": []
  }
 ],
 "metadata": {
  "kernelspec": {
   "display_name": "Python 3 (ipykernel)",
   "language": "python",
   "name": "python3"
  },
  "language_info": {
   "codemirror_mode": {
    "name": "ipython",
    "version": 3
   },
   "file_extension": ".py",
   "mimetype": "text/x-python",
   "name": "python",
   "nbconvert_exporter": "python",
   "pygments_lexer": "ipython3",
   "version": "3.10.2"
  }
 },
 "nbformat": 4,
 "nbformat_minor": 5
}
