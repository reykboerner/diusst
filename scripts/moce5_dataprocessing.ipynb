{
 "cells": [
  {
   "cell_type": "code",
   "execution_count": 1,
   "metadata": {
    "ExecuteTime": {
     "end_time": "2022-07-08T18:36:05.005818Z",
     "start_time": "2022-07-08T18:36:04.196147Z"
    }
   },
   "outputs": [],
   "source": [
    "import numpy as np\n",
    "import matplotlib.pyplot as plt\n",
    "import pandas as pd\n",
    "import xarray as xr"
   ]
  },
  {
   "cell_type": "markdown",
   "metadata": {},
   "source": [
    "### Load datasets"
   ]
  },
  {
   "cell_type": "code",
   "execution_count": 2,
   "metadata": {
    "ExecuteTime": {
     "end_time": "2022-07-08T18:36:05.114729Z",
     "start_time": "2022-07-08T18:36:05.007002Z"
    }
   },
   "outputs": [],
   "source": [
    "met = pd.read_csv('../input_data/moce5/moce5_raw_metdata.csv')\n",
    "sat = pd.read_csv('../input_data/moce5/moce5_raw_skindata.csv')"
   ]
  },
  {
   "cell_type": "markdown",
   "metadata": {},
   "source": [
    "### Extract wanted quantities"
   ]
  },
  {
   "cell_type": "code",
   "execution_count": 3,
   "metadata": {
    "ExecuteTime": {
     "end_time": "2022-07-08T18:36:05.131698Z",
     "start_time": "2022-07-08T18:36:05.119517Z"
    }
   },
   "outputs": [],
   "source": [
    "satday = sat['localday'].to_numpy(np.float64)\n",
    "satlong = sat['long'].to_numpy(np.float64)\n",
    "satlat = sat['lat'].to_numpy(np.float64)\n",
    "\n",
    "metday = met['localday'].to_numpy(np.float64)\n",
    "metlong = met['long'].to_numpy(np.float64)\n",
    "metlat = met['lat'].to_numpy(np.float64)\n",
    "\n",
    "longwave = met['long_wave'].to_numpy(np.float64)\n",
    "shortwave = met['short_wave'].to_numpy(np.float64)\n",
    "airtemp = sat['AirTemp'].to_numpy(np.float64)\n",
    "precipitation = met['precipitation'].to_numpy(np.float64)\n",
    "salinity = met['salinity'].to_numpy(np.float64)\n",
    "relhumi = met['rel_humi'].to_numpy(np.float64)\n",
    "boatspeed = met['speed_knots'].to_numpy(np.float64)\n",
    "winddir = met['tdir'].to_numpy(np.float64)"
   ]
  },
  {
   "cell_type": "markdown",
   "metadata": {},
   "source": [
    "### Conflate skin and met data"
   ]
  },
  {
   "cell_type": "code",
   "execution_count": 4,
   "metadata": {
    "ExecuteTime": {
     "end_time": "2022-07-08T18:36:05.148063Z",
     "start_time": "2022-07-08T18:36:05.138009Z"
    }
   },
   "outputs": [],
   "source": [
    "# Find elements of a dense sequence that are similar to the values of a sparse sequence\n",
    "def get_near_indices(a,b):\n",
    "    \"\"\"\n",
    "    Get indexes of values in array b that are nearest to the values in array a\n",
    "    (The values in a and b must increase monotonically!)\n",
    "    \"\"\"\n",
    "    c = np.zeros(a.shape[0])\n",
    "    j = 0\n",
    "    for i in range(a.shape[0]):\n",
    "        while b[j] < a[i]:\n",
    "            j += 1\n",
    "        if np.abs(b[j-1]-a[i]) < np.abs(b[j]-a[i]):\n",
    "            c[i] = j-1\n",
    "        else:\n",
    "            c[i] = j\n",
    "    return c.astype(int)"
   ]
  },
  {
   "cell_type": "code",
   "execution_count": 5,
   "metadata": {
    "ExecuteTime": {
     "end_time": "2022-07-08T18:36:05.222719Z",
     "start_time": "2022-07-08T18:36:05.151616Z"
    }
   },
   "outputs": [],
   "source": [
    "# Get indices of metday corresponding to satday\n",
    "metidx = get_near_indices(satday,metday)\n",
    "\n",
    "# Clean data by removing corresponding points with >10min time difference\n",
    "satidx_clean = np.where(np.abs(metday[metidx]-satday) < 10/24/60)\n",
    "metidx_clean = metidx[satidx_clean]\n",
    "\n",
    "# Clean data by removing corresponding data points with >0.05 degree difference in lat or long\n",
    "pos_clean_idx = []\n",
    "for i in range(satidx_clean[0].shape[0]):\n",
    "    if np.abs(metlong[metidx_clean][i]-satlong[satidx_clean][i]) > 0.05 or np.abs(metlat[metidx_clean][i]-satlat[satidx_clean][i]) > 0.05:\n",
    "        pos_clean_idx.append(i)\n",
    "    else:\n",
    "        pass\n",
    "sidx = np.delete(satidx_clean[0],np.array(pos_clean_idx))\n",
    "midx = metidx[sidx]\n",
    "\n"
   ]
  },
  {
   "cell_type": "code",
   "execution_count": 6,
   "metadata": {
    "ExecuteTime": {
     "end_time": "2022-07-08T18:36:05.228753Z",
     "start_time": "2022-07-08T18:36:05.225133Z"
    }
   },
   "outputs": [],
   "source": [
    "lon_raw = metlong[midx]\n",
    "lat_raw = metlat[midx]\n"
   ]
  },
  {
   "cell_type": "markdown",
   "metadata": {},
   "source": [
    "### Get cleaned, conflated quantities"
   ]
  },
  {
   "cell_type": "code",
   "execution_count": 7,
   "metadata": {
    "ExecuteTime": {
     "end_time": "2022-07-08T18:36:05.245594Z",
     "start_time": "2022-07-08T18:36:05.230836Z"
    }
   },
   "outputs": [],
   "source": [
    "skintemp_raw = sat['skintemp'].to_numpy(np.float64)[sidx]\n",
    "skintemperr_raw = sat['StdDevSkinTemp'].to_numpy(np.float64)[sidx]\n",
    "wind_raw = met['tspd'].to_numpy(np.float64)[midx]\n",
    "ftemp_raw = met['sea_temp_corr'].to_numpy(np.float64)[midx]\n",
    "hourday_raw = satday[sidx] % 1\n",
    "times_raw = satday[sidx]\n",
    "\n",
    "longwave_raw = longwave[midx]\n",
    "shortwave_raw = shortwave[midx]\n",
    "precip_raw = precipitation[midx]\n",
    "sal_raw = salinity[midx]\n",
    "relhumi_raw = relhumi[midx]\n",
    "airtemp_raw = airtemp[sidx]\n",
    "boatspeed_raw = boatspeed[midx]\n",
    "winddir_raw = winddir[midx]\n",
    "\n",
    "# clean by removing part where ftemp_raw is -99 degrees\n",
    "ftemp = ftemp_raw[ftemp_raw>0] + 273.15\n",
    "skintemp = skintemp_raw[ftemp_raw>0]\n",
    "skintemperr = skintemperr_raw[ftemp_raw>0]\n",
    "wind = wind_raw[ftemp_raw>0]\n",
    "wdir = winddir_raw[ftemp_raw>0]\n",
    "\n",
    "hourday = hourday_raw[ftemp_raw>0]\n",
    "times = times_raw[ftemp_raw>0]\n",
    "lon = lon_raw[ftemp_raw>0]\n",
    "lat = lat_raw[ftemp_raw>0]\n",
    "\n",
    "lwave = longwave_raw[ftemp_raw>0]\n",
    "swave = shortwave_raw[ftemp_raw>0]\n",
    "precip = precip_raw[ftemp_raw>0]\n",
    "sal = sal_raw[ftemp_raw>0]\n",
    "humi = relhumi_raw[ftemp_raw>0]\n",
    "atemp = airtemp_raw[ftemp_raw>0]\n",
    "bspeed = boatspeed_raw[ftemp_raw>0]"
   ]
  },
  {
   "cell_type": "code",
   "execution_count": 8,
   "metadata": {
    "ExecuteTime": {
     "end_time": "2022-07-08T18:36:05.256213Z",
     "start_time": "2022-07-08T18:36:05.247610Z"
    }
   },
   "outputs": [],
   "source": [
    "T_f = np.mean(ftemp)\n",
    "humid = np.ones(len(times))*15e-3 # arbitrarily assume a specific humidity of 15 g/kg (since it is not given in the dataset)\n",
    "atemp_rel = atemp - ftemp + T_f\n",
    "dsst = skintemp - ftemp\n",
    "ssterr = 2*skintemperr* (1 + bspeed/np.amax(bspeed))\n",
    "boatspd = bspeed * 0.51444444\n",
    "\n",
    "time = (times-np.floor(times[0])) * 86400\n",
    "time_day = times-np.floor(times[0])\n",
    "day = np.floor(times).astype(int)"
   ]
  },
  {
   "cell_type": "markdown",
   "metadata": {},
   "source": [
    "## Export data"
   ]
  },
  {
   "cell_type": "code",
   "execution_count": 9,
   "metadata": {
    "ExecuteTime": {
     "end_time": "2022-07-08T18:36:05.274962Z",
     "start_time": "2022-07-08T18:36:05.257950Z"
    }
   },
   "outputs": [],
   "source": [
    "ds = xr.Dataset(\n",
    "    data_vars=dict(\n",
    "        dsst=(['time'], dsst),\n",
    "        dsst_err=(['time'], ssterr),\n",
    "        skinsst=(['time'], skintemp),\n",
    "        ftemp=(['time'], ftemp),\n",
    "        atemp=(['time'], atemp),\n",
    "        atemp_rel=(['time'], atemp_rel),\n",
    "        swrad=(['time'], lwave),\n",
    "        wind=(['time'], wind),\n",
    "        wind_dir=(['time'], wdir),\n",
    "        humid=(['time'], humid),\n",
    "        time_day=(['time'], time_day),\n",
    "        day_of_year=(['time'], day),\n",
    "        lat=(['time'], lat),\n",
    "        lon=(['time'], lon),\n",
    "        boatspd=(['time'], boatspd),\n",
    "    ),\n",
    "    coords={\n",
    "        'time': time,\n",
    "        'T_f': T_f,\n",
    "    },\n",
    "    attrs=dict(\n",
    "        Description='Dataset from the MOCE-5 cruise in the Eastern Pacific and Gulf of California',\n",
    "        Cruise_dates='01-21 October 1999',\n",
    "        Ship_name='R/V Melville',\n",
    "        Notes='This data set has been processed to be used as input data for the diuSST model (github.com/reykboerner/diusst).\\nSpecific humidity data is missing in the original data set and has here been substituted by the constant value humid=15 g/kg.\\natemp_rel is calculated as (atemp - ftemp + T_f), where T_f is the mean of ftemp.\\nThe standard error of dsst is estimated based on the standard deviation of skinsst measurements and the boat speed.\\n',\n",
    "        Data_source='Raw data kindly provided by Prof. Peter Minnett, University of Miami',\n",
    "        Contact='Reyk Börner (reyk.boerner@reading.ac.uk)',\n",
    "        Date='08 July 2022',\n",
    "    ),\n",
    ")\n",
    "\n",
    "ds.time.attrs['units']='seconds'\n",
    "ds.time.attrs['long_name']='Local sun time in seconds since 00h00 midnight on 01 October 1999'\n",
    "ds.dsst.attrs['units']='Kelvin'\n",
    "ds.dsst.attrs['long_name']='Diurnal warming (skinsst minus ftemp)'\n",
    "ds.dsst_err.attrs['units']='Kelvin'\n",
    "ds.dsst_err.attrs['long_name']='Standard error of dsst (see Notes)'\n",
    "ds.skinsst.attrs['units']='Kelvin'\n",
    "ds.skinsst.attrs['long_name']='Radiometric skin SST'\n",
    "ds.ftemp.attrs['units']='Kelvin'\n",
    "ds.ftemp.attrs['long_name']='Sea temperature at 3m depth'\n",
    "ds.atemp.attrs['units']='Kelvin'\n",
    "ds.atemp.attrs['long_name']='Air temperature'\n",
    "ds.atemp_rel.attrs['units']='Kelvin'\n",
    "ds.atemp_rel.attrs['long_name']='Air temperature relative to mean foundation temperature (see Notes)'\n",
    "ds.swrad.attrs['units']='Watt per square meter'\n",
    "ds.swrad.attrs['long_name']='Incident downward shortwave irradiance'\n",
    "ds.wind.attrs['units']='meter per second'\n",
    "ds.wind.attrs['long_name']='Horizontal wind speed'\n",
    "ds.wind_dir.attrs['units']='degree'\n",
    "ds.wind_dir.attrs['long_name']='Wind direction'\n",
    "ds.humid.attrs['units']='kilogram per kilogram'\n",
    "ds.humid.attrs['long_name']='Specific humidity (set to constant value 0.015 due to missing data, see Notes)'\n",
    "ds.time_day.attrs['units']='days'\n",
    "ds.time_day.attrs['long_name']='Local sun time in days since 00h00 midnight on 01 October 1999'\n",
    "ds.day_of_year.attrs['units']='days'\n",
    "ds.day_of_year.attrs['long_name']='Day of the year 1999'\n",
    "ds.lat.attrs['units']='degrees north'\n",
    "ds.lat.attrs['long_name']='Latitude'\n",
    "ds.lon.attrs['units']='degrees east'\n",
    "ds.lon.attrs['long_name']='Longitude'\n",
    "ds.boatspd.attrs['units']='meter per second'\n",
    "ds.boatspd.attrs['long_name']='Cruise speed of vessel'\n",
    "ds.T_f.attrs['units']='Kelvin'\n",
    "ds.T_f.attrs['long_name']='Mean foundation temperature (mean of ftemp)'"
   ]
  },
  {
   "cell_type": "code",
   "execution_count": 10,
   "metadata": {
    "ExecuteTime": {
     "end_time": "2022-07-08T18:36:05.295349Z",
     "start_time": "2022-07-08T18:36:05.276860Z"
    }
   },
   "outputs": [],
   "source": [
    "ds.to_netcdf('../input_data/moce5/moce5_dataset.cdf')"
   ]
  },
  {
   "cell_type": "code",
   "execution_count": null,
   "metadata": {},
   "outputs": [],
   "source": []
  }
 ],
 "metadata": {
  "kernelspec": {
   "display_name": "Python 3 (ipykernel)",
   "language": "python",
   "name": "python3"
  },
  "language_info": {
   "codemirror_mode": {
    "name": "ipython",
    "version": 3
   },
   "file_extension": ".py",
   "mimetype": "text/x-python",
   "name": "python",
   "nbconvert_exporter": "python",
   "pygments_lexer": "ipython3",
   "version": "3.10.4"
  }
 },
 "nbformat": 4,
 "nbformat_minor": 4
}
